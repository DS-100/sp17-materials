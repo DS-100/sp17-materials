{
 "cells": [
  {
   "cell_type": "markdown",
   "metadata": {
    "nbpresent": {
     "id": "681a8dc5-98a4-43c6-81c8-e8e8106e5ced"
    }
   },
   "source": [
    "# Discussion 4: Visualizations\n",
    "\n",
    "Relevant lectures: 5 and 6\n",
    "\n",
    "In today's discussion, you'll get practice identifying poor visualizations\n",
    "and suggesting improvements to them.\n",
    "\n",
    "**This discussion will not be turned in.** In fact, there is no code in this discussion; all your\n",
    "answers will be written in the text cells below.\n",
    "\n",
    "The purpose of this exercise is to think about and communicate your point of view, so\n",
    "please work through these problems together in **groups of 2 or 3**."
   ]
  },
  {
   "cell_type": "markdown",
   "metadata": {
    "nbpresent": {
     "id": "1499fa3c-0414-4536-832c-1405cb1b6682"
    }
   },
   "source": [
    "## Question 1: Intel Chips\n",
    "\n",
    "The chips that are present in your computer contain electrical components called\n",
    "transistors. Intel is one of the leading manufacturers of these chips; they\n",
    "released the first chip for home computers in 1979.\n",
    "\n",
    "We'd like to visualize the improvements in chips that Intel has made since 1979.\n",
    "\n",
    "You can see a portion of the data at http://computer.howstuffworks.com/microprocessor1.htm.\n",
    "\n",
    "Inspect the following plot.\n",
    "\n",
    "![](images/intel1.png)\n",
    "\n",
    "### Question 1a\n",
    "\n",
    "What is the plot trying to communicate?"
   ]
  },
  {
   "cell_type": "markdown",
   "metadata": {
    "nbpresent": {
     "id": "5df32044-c25c-4fce-b11d-b6fa28502d45"
    }
   },
   "source": [
    "**Write your solution here, replacing this text.**"
   ]
  },
  {
   "cell_type": "markdown",
   "metadata": {
    "nbpresent": {
     "id": "ccdc2a85-9b03-4a7a-9a8e-c3160f19e4ab"
    }
   },
   "source": [
    "### Question 1b\n",
    "\n",
    "What are the problems with this plot? (There are quite a few.)"
   ]
  },
  {
   "cell_type": "markdown",
   "metadata": {
    "nbpresent": {
     "id": "a814b182-0156-4dd2-b6cf-c501b21316ec"
    }
   },
   "source": []
  },
  {
   "cell_type": "markdown",
   "metadata": {
    "nbpresent": {
     "id": "cdf9d8d5-5e94-4144-b03d-8eef17821992"
    }
   },
   "source": [
    "Here's an attempt to improve the plot:\n",
    "\n",
    "![](images/intel2.png)"
   ]
  },
  {
   "cell_type": "markdown",
   "metadata": {
    "nbpresent": {
     "id": "45f15213-b815-4bc5-b141-46a399052f12"
    }
   },
   "source": [
    "### Question 1c\n",
    "\n",
    "What is clear from this plot that isn't clear in the previous one?"
   ]
  },
  {
   "cell_type": "code",
   "execution_count": null,
   "metadata": {
    "collapsed": true,
    "nbpresent": {
     "id": "5be37a57-bceb-4cb6-b693-ea98d7e61002"
    }
   },
   "outputs": [],
   "source": []
  },
  {
   "cell_type": "markdown",
   "metadata": {
    "nbpresent": {
     "id": "2653acdf-84df-4e51-ae31-0c5a9dcf2371"
    }
   },
   "source": [
    "Here's a third attempt to improve the plot:\n",
    "\n",
    "![](images/intel3.png)"
   ]
  },
  {
   "cell_type": "markdown",
   "metadata": {
    "nbpresent": {
     "id": "a138b2fe-6b6d-471d-8b74-93b59d53c587"
    }
   },
   "source": [
    "### Question 1d\n",
    "\n",
    "What is better about this plot compared to the previous one?"
   ]
  },
  {
   "cell_type": "markdown",
   "metadata": {
    "nbpresent": {
     "id": "50f10cc9-7f45-4ce3-a036-675ca3a7bbf8"
    }
   },
   "source": [
    "## Question 2\n",
    "\n",
    "In the British county of Leicestershire, local authorities were presented\n",
    "this plot of crime data.\n",
    "\n",
    "![](images/britain_crime.png)"
   ]
  },
  {
   "cell_type": "markdown",
   "metadata": {
    "nbpresent": {
     "id": "3bb0c0e3-1e29-4fea-bede-ba6a44a847dc"
    }
   },
   "source": [
    "### Question 2a\n",
    "\n",
    "What is the purpose of this visualization? What is it trying to communicate?"
   ]
  },
  {
   "cell_type": "code",
   "execution_count": null,
   "metadata": {
    "collapsed": true,
    "nbpresent": {
     "id": "f10f9d2a-e955-4bc2-b543-836938e2cd85"
    }
   },
   "outputs": [],
   "source": []
  },
  {
   "cell_type": "markdown",
   "metadata": {
    "nbpresent": {
     "id": "d3033833-0eed-42cc-b4fe-9e5683f7d1ed"
    }
   },
   "source": [
    "### Question 2b\n",
    "\n",
    "What does the visualization convey well? What are problems with this visualization?"
   ]
  },
  {
   "cell_type": "code",
   "execution_count": null,
   "metadata": {
    "collapsed": true,
    "nbpresent": {
     "id": "e92e4d86-ef44-4c16-8d91-5df1bc125d17"
    }
   },
   "outputs": [],
   "source": []
  },
  {
   "cell_type": "markdown",
   "metadata": {
    "nbpresent": {
     "id": "1892fd35-0f0e-415a-ab21-9e52d929dfea"
    }
   },
   "source": [
    "### Question 2c\n",
    "\n",
    "Suggest an alternative visualization that would better communicate what\n",
    "the original visualization was going for. Justify your choice."
   ]
  },
  {
   "cell_type": "code",
   "execution_count": null,
   "metadata": {
    "collapsed": true,
    "nbpresent": {
     "id": "f0233c27-3590-4945-909d-5dc9c6d330ad"
    }
   },
   "outputs": [],
   "source": []
  },
  {
   "cell_type": "markdown",
   "metadata": {
    "nbpresent": {
     "id": "d707eba5-519a-4fa5-81a3-41be5a1b1e4f"
    }
   },
   "source": [
    "## Question 3\n",
    "\n",
    "This plot shows information about common cooking oils.\n",
    "\n",
    "Note: The smoking point for a given oil is the temperature where\n",
    "the oil starts to decompose and generate\n",
    "smoke. It determines what kind of cooking is possible.\n",
    "\n",
    "![](images/oils.png)"
   ]
  },
  {
   "cell_type": "markdown",
   "metadata": {
    "nbpresent": {
     "id": "f0cd2e04-bda0-4d6b-b2da-81b37e7a93f4"
    }
   },
   "source": [
    "### Question 3a\n",
    "\n",
    "What is the purpose of this visualization? What is it trying to communicate?"
   ]
  },
  {
   "cell_type": "code",
   "execution_count": null,
   "metadata": {
    "collapsed": true,
    "nbpresent": {
     "id": "f6aa388d-7d9f-464a-aa08-8f67f531d135"
    }
   },
   "outputs": [],
   "source": []
  },
  {
   "cell_type": "markdown",
   "metadata": {
    "nbpresent": {
     "id": "d6dc012d-2282-4fbd-9057-8bc57ba615e1"
    }
   },
   "source": [
    "### Question 3b\n",
    "\n",
    "What does the visualization convey well? What are problems with this visualization?"
   ]
  },
  {
   "cell_type": "code",
   "execution_count": null,
   "metadata": {
    "collapsed": true,
    "nbpresent": {
     "id": "909602d9-a7b0-4703-9506-21b79d6a8e86"
    }
   },
   "outputs": [],
   "source": []
  },
  {
   "cell_type": "markdown",
   "metadata": {
    "nbpresent": {
     "id": "e975214b-361f-42f7-abce-5c66412869df"
    }
   },
   "source": [
    "### Question 3c\n",
    "\n",
    "Suggest an alternative visualization that would better communicate what\n",
    "the original visualization was going for. Justify your choice."
   ]
  },
  {
   "cell_type": "code",
   "execution_count": null,
   "metadata": {
    "collapsed": true,
    "nbpresent": {
     "id": "9e813816-3152-4735-8425-d5cd6f5c123c"
    }
   },
   "outputs": [],
   "source": []
  }
 ],
 "metadata": {
  "anaconda-cloud": {},
  "kernelspec": {
   "display_name": "Python [conda env:ds100win]",
   "language": "python",
   "name": "conda-env-ds100win-py"
  },
  "language_info": {
   "codemirror_mode": {
    "name": "ipython",
    "version": 3
   },
   "file_extension": ".py",
   "mimetype": "text/x-python",
   "name": "python",
   "nbconvert_exporter": "python",
   "pygments_lexer": "ipython3",
   "version": "3.5.2"
  },
  "nbpresent": {
   "slides": {
    "03c88b6e-f2f4-4f4e-b8f1-e9e548d23b06": {
     "id": "03c88b6e-f2f4-4f4e-b8f1-e9e548d23b06",
     "prev": "46fe3e65-cfdb-4706-96a4-e8ea8a8b1f36",
     "regions": {
      "20af9218-2314-43b1-8c48-5a6048d0e4f9": {
       "attrs": {
        "height": 0.8,
        "width": 0.8,
        "x": 0.1,
        "y": 0.1
       },
       "content": {
        "cell": "2653acdf-84df-4e51-ae31-0c5a9dcf2371",
        "part": "whole"
       },
       "id": "20af9218-2314-43b1-8c48-5a6048d0e4f9"
      }
     }
    },
    "08d3c580-6055-4d3d-a3f1-c9b25d809c6e": {
     "id": "08d3c580-6055-4d3d-a3f1-c9b25d809c6e",
     "prev": "03c88b6e-f2f4-4f4e-b8f1-e9e548d23b06",
     "regions": {
      "1b71bf67-b49e-4516-a849-db52a3be417e": {
       "attrs": {
        "height": 0.8,
        "width": 0.8,
        "x": 0.1,
        "y": 0.1
       },
       "content": {
        "cell": "a138b2fe-6b6d-471d-8b74-93b59d53c587",
        "part": "whole"
       },
       "id": "1b71bf67-b49e-4516-a849-db52a3be417e"
      }
     }
    },
    "0c199d1f-b76e-4caa-84d6-61948590d0ed": {
     "id": "0c199d1f-b76e-4caa-84d6-61948590d0ed",
     "prev": "99ee4ba8-3ce0-4529-b464-81629e95f08a",
     "regions": {
      "aeb0c123-eda2-423a-ba77-efaa5a5d0c55": {
       "attrs": {
        "height": 0.8,
        "width": 0.8,
        "x": 0.1,
        "y": 0.1
       },
       "content": {
        "cell": "f6aa388d-7d9f-464a-aa08-8f67f531d135",
        "part": "whole"
       },
       "id": "aeb0c123-eda2-423a-ba77-efaa5a5d0c55"
      }
     }
    },
    "0d8f8249-6bda-4b4b-a3d0-e20f4a4b1d2d": {
     "id": "0d8f8249-6bda-4b4b-a3d0-e20f4a4b1d2d",
     "prev": "e8388f28-b978-42d5-9230-34b0d22d6060",
     "regions": {
      "567face8-ec4c-4e34-aafd-bb305d6b6aad": {
       "attrs": {
        "height": 0.8,
        "width": 0.8,
        "x": 0.1,
        "y": 0.1
       },
       "content": {
        "cell": "d3033833-0eed-42cc-b4fe-9e5683f7d1ed",
        "part": "whole"
       },
       "id": "567face8-ec4c-4e34-aafd-bb305d6b6aad"
      }
     }
    },
    "2b38d194-a00d-4355-8c01-ee89b467ba00": {
     "id": "2b38d194-a00d-4355-8c01-ee89b467ba00",
     "prev": "08d3c580-6055-4d3d-a3f1-c9b25d809c6e",
     "regions": {
      "c28e4b0e-8dfe-4458-b22b-94a4ccb5b565": {
       "attrs": {
        "height": 0.8,
        "width": 0.8,
        "x": 0.1,
        "y": 0.1
       },
       "content": {
        "cell": "50f10cc9-7f45-4ce3-a036-675ca3a7bbf8",
        "part": "whole"
       },
       "id": "c28e4b0e-8dfe-4458-b22b-94a4ccb5b565"
      }
     }
    },
    "300dff37-fab8-4d20-b969-44784796a924": {
     "id": "300dff37-fab8-4d20-b969-44784796a924",
     "prev": "960deccc-dbd7-4c4f-a417-5f88753e87a1",
     "regions": {
      "cc8f50ed-ba40-47fb-9f88-6b109c522916": {
       "attrs": {
        "height": 0.8,
        "width": 0.8,
        "x": 0.1,
        "y": 0.1
       },
       "content": {
        "cell": "d707eba5-519a-4fa5-81a3-41be5a1b1e4f",
        "part": "whole"
       },
       "id": "cc8f50ed-ba40-47fb-9f88-6b109c522916"
      }
     }
    },
    "407269fb-6bbd-42fa-b5b6-281eb01defbf": {
     "id": "407269fb-6bbd-42fa-b5b6-281eb01defbf",
     "prev": "b963808c-b92f-4df4-b0a3-a0777a9840eb",
     "regions": {
      "a30cd8d2-81a8-4662-993e-0071a0851f1d": {
       "attrs": {
        "height": 0.8,
        "width": 0.8,
        "x": 0.1,
        "y": 0.1
       },
       "content": {
        "cell": "9e813816-3152-4735-8425-d5cd6f5c123c",
        "part": "whole"
       },
       "id": "a30cd8d2-81a8-4662-993e-0071a0851f1d"
      }
     }
    },
    "46fe3e65-cfdb-4706-96a4-e8ea8a8b1f36": {
     "id": "46fe3e65-cfdb-4706-96a4-e8ea8a8b1f36",
     "prev": "905ffa47-b241-472d-b7e4-a68a7b7ba61c",
     "regions": {
      "e3e01702-a891-4b96-9cc6-c16e2a7ec355": {
       "attrs": {
        "height": 0.8,
        "width": 0.8,
        "x": 0.1,
        "y": 0.1
       },
       "content": {
        "cell": "5be37a57-bceb-4cb6-b693-ea98d7e61002",
        "part": "whole"
       },
       "id": "e3e01702-a891-4b96-9cc6-c16e2a7ec355"
      }
     }
    },
    "4b79350c-f973-4cea-9c1a-bb4ca0284e23": {
     "id": "4b79350c-f973-4cea-9c1a-bb4ca0284e23",
     "prev": "8b15cde4-03ee-4bb5-af9c-56a1947f40fd",
     "regions": {
      "7d6a9507-c27f-433c-aee6-04bbea02f4b2": {
       "attrs": {
        "height": 0.8,
        "width": 0.8,
        "x": 0.1,
        "y": 0.1
       },
       "content": {
        "cell": "1499fa3c-0414-4536-832c-1405cb1b6682",
        "part": "whole"
       },
       "id": "7d6a9507-c27f-433c-aee6-04bbea02f4b2"
      }
     }
    },
    "5544c7f4-7eb1-42ec-9f73-794c482db5f4": {
     "id": "5544c7f4-7eb1-42ec-9f73-794c482db5f4",
     "prev": "4b79350c-f973-4cea-9c1a-bb4ca0284e23",
     "regions": {
      "cfe43817-6707-495f-a247-a32f7778a140": {
       "attrs": {
        "height": 0.8,
        "width": 0.8,
        "x": 0.1,
        "y": 0.1
       },
       "content": {
        "cell": "5df32044-c25c-4fce-b11d-b6fa28502d45",
        "part": "whole"
       },
       "id": "cfe43817-6707-495f-a247-a32f7778a140"
      }
     }
    },
    "5e62f99b-ea22-400a-957d-9e047994a83a": {
     "id": "5e62f99b-ea22-400a-957d-9e047994a83a",
     "prev": "0c199d1f-b76e-4caa-84d6-61948590d0ed",
     "regions": {
      "042c7d8f-83e9-4f27-bcd1-948b6d347df5": {
       "attrs": {
        "height": 0.8,
        "width": 0.8,
        "x": 0.1,
        "y": 0.1
       },
       "content": {
        "cell": "d6dc012d-2282-4fbd-9057-8bc57ba615e1",
        "part": "whole"
       },
       "id": "042c7d8f-83e9-4f27-bcd1-948b6d347df5"
      }
     }
    },
    "6ff79a57-b410-450e-9ee1-9e32c71f8080": {
     "id": "6ff79a57-b410-450e-9ee1-9e32c71f8080",
     "prev": "f033a38d-2973-454e-b484-8263ab98ffab",
     "regions": {
      "518659e6-524f-4eb5-aead-32616dc141e0": {
       "attrs": {
        "height": 0.8,
        "width": 0.8,
        "x": 0.1,
        "y": 0.1
       },
       "content": {
        "cell": "cdf9d8d5-5e94-4144-b03d-8eef17821992",
        "part": "whole"
       },
       "id": "518659e6-524f-4eb5-aead-32616dc141e0"
      }
     }
    },
    "7a5fba08-1c33-479d-948b-c2418ca2edfd": {
     "id": "7a5fba08-1c33-479d-948b-c2418ca2edfd",
     "prev": "abc04c56-8787-4693-8976-652f4a699d6c",
     "regions": {
      "c4f56ebb-05ec-475a-aca3-d1617737fef7": {
       "attrs": {
        "height": 0.8,
        "width": 0.8,
        "x": 0.1,
        "y": 0.1
       },
       "content": {
        "cell": "1892fd35-0f0e-415a-ab21-9e52d929dfea",
        "part": "whole"
       },
       "id": "c4f56ebb-05ec-475a-aca3-d1617737fef7"
      }
     }
    },
    "8b15cde4-03ee-4bb5-af9c-56a1947f40fd": {
     "id": "8b15cde4-03ee-4bb5-af9c-56a1947f40fd",
     "prev": null,
     "regions": {
      "349a1463-cd94-4ce3-951a-c5b98050402a": {
       "attrs": {
        "height": 0.8,
        "width": 0.8,
        "x": 0.1,
        "y": 0.1
       },
       "content": {
        "cell": "681a8dc5-98a4-43c6-81c8-e8e8106e5ced",
        "part": "whole"
       },
       "id": "349a1463-cd94-4ce3-951a-c5b98050402a"
      }
     }
    },
    "905ffa47-b241-472d-b7e4-a68a7b7ba61c": {
     "id": "905ffa47-b241-472d-b7e4-a68a7b7ba61c",
     "prev": "6ff79a57-b410-450e-9ee1-9e32c71f8080",
     "regions": {
      "e57edd0d-f7f0-44e0-bac5-8ee6b0a12ef8": {
       "attrs": {
        "height": 0.8,
        "width": 0.8,
        "x": 0.1,
        "y": 0.1
       },
       "content": {
        "cell": "45f15213-b815-4bc5-b141-46a399052f12",
        "part": "whole"
       },
       "id": "e57edd0d-f7f0-44e0-bac5-8ee6b0a12ef8"
      }
     }
    },
    "960deccc-dbd7-4c4f-a417-5f88753e87a1": {
     "id": "960deccc-dbd7-4c4f-a417-5f88753e87a1",
     "prev": "7a5fba08-1c33-479d-948b-c2418ca2edfd",
     "regions": {
      "e6a4e764-f53b-4c9d-a756-9d0587667c7c": {
       "attrs": {
        "height": 0.8,
        "width": 0.8,
        "x": 0.1,
        "y": 0.1
       },
       "content": {
        "cell": "f0233c27-3590-4945-909d-5dc9c6d330ad",
        "part": "whole"
       },
       "id": "e6a4e764-f53b-4c9d-a756-9d0587667c7c"
      }
     }
    },
    "99ee4ba8-3ce0-4529-b464-81629e95f08a": {
     "id": "99ee4ba8-3ce0-4529-b464-81629e95f08a",
     "prev": "300dff37-fab8-4d20-b969-44784796a924",
     "regions": {
      "0543ee7a-050c-48b5-9b36-469f2aeb6275": {
       "attrs": {
        "height": 0.8,
        "width": 0.8,
        "x": 0.1,
        "y": 0.1
       },
       "content": {
        "cell": "f0cd2e04-bda0-4d6b-b2da-81b37e7a93f4",
        "part": "whole"
       },
       "id": "0543ee7a-050c-48b5-9b36-469f2aeb6275"
      }
     }
    },
    "abc04c56-8787-4693-8976-652f4a699d6c": {
     "id": "abc04c56-8787-4693-8976-652f4a699d6c",
     "prev": "0d8f8249-6bda-4b4b-a3d0-e20f4a4b1d2d",
     "regions": {
      "efd6cf98-e6fd-4522-9673-da543dbb5fd7": {
       "attrs": {
        "height": 0.8,
        "width": 0.8,
        "x": 0.1,
        "y": 0.1
       },
       "content": {
        "cell": "e92e4d86-ef44-4c16-8d91-5df1bc125d17",
        "part": "whole"
       },
       "id": "efd6cf98-e6fd-4522-9673-da543dbb5fd7"
      }
     }
    },
    "b0b02947-2b08-46c7-b1b2-c8966caade95": {
     "id": "b0b02947-2b08-46c7-b1b2-c8966caade95",
     "prev": "5e62f99b-ea22-400a-957d-9e047994a83a",
     "regions": {
      "5c562db0-8475-4d21-ac76-44abeb8a6246": {
       "attrs": {
        "height": 0.8,
        "width": 0.8,
        "x": 0.1,
        "y": 0.1
       },
       "content": {
        "cell": "909602d9-a7b0-4703-9506-21b79d6a8e86",
        "part": "whole"
       },
       "id": "5c562db0-8475-4d21-ac76-44abeb8a6246"
      }
     }
    },
    "b90fe8c2-2dd0-45e4-b95a-14b0376a7ff5": {
     "id": "b90fe8c2-2dd0-45e4-b95a-14b0376a7ff5",
     "prev": "2b38d194-a00d-4355-8c01-ee89b467ba00",
     "regions": {
      "63696742-80f2-460c-a90a-9a0753764219": {
       "attrs": {
        "height": 0.8,
        "width": 0.8,
        "x": 0.1,
        "y": 0.1
       },
       "content": {
        "cell": "3bb0c0e3-1e29-4fea-bede-ba6a44a847dc",
        "part": "whole"
       },
       "id": "63696742-80f2-460c-a90a-9a0753764219"
      }
     }
    },
    "b963808c-b92f-4df4-b0a3-a0777a9840eb": {
     "id": "b963808c-b92f-4df4-b0a3-a0777a9840eb",
     "prev": "b0b02947-2b08-46c7-b1b2-c8966caade95",
     "regions": {
      "4d32debe-6033-471a-960e-80ea3432a0ea": {
       "attrs": {
        "height": 0.8,
        "width": 0.8,
        "x": 0.1,
        "y": 0.1
       },
       "content": {
        "cell": "e975214b-361f-42f7-abce-5c66412869df",
        "part": "whole"
       },
       "id": "4d32debe-6033-471a-960e-80ea3432a0ea"
      }
     }
    },
    "e8388f28-b978-42d5-9230-34b0d22d6060": {
     "id": "e8388f28-b978-42d5-9230-34b0d22d6060",
     "prev": "b90fe8c2-2dd0-45e4-b95a-14b0376a7ff5",
     "regions": {
      "9be1f401-8849-4d31-a377-e4184c302af6": {
       "attrs": {
        "height": 0.8,
        "width": 0.8,
        "x": 0.1,
        "y": 0.1
       },
       "content": {
        "cell": "f10f9d2a-e955-4bc2-b543-836938e2cd85",
        "part": "whole"
       },
       "id": "9be1f401-8849-4d31-a377-e4184c302af6"
      }
     }
    },
    "f033a38d-2973-454e-b484-8263ab98ffab": {
     "id": "f033a38d-2973-454e-b484-8263ab98ffab",
     "prev": "fbaaaefa-ce71-4166-bb9d-b18009e8816d",
     "regions": {
      "25593249-48a4-4250-abcb-6b899c1ccd15": {
       "attrs": {
        "height": 0.8,
        "width": 0.8,
        "x": 0.1,
        "y": 0.1
       },
       "content": {
        "cell": "a814b182-0156-4dd2-b6cf-c501b21316ec",
        "part": "whole"
       },
       "id": "25593249-48a4-4250-abcb-6b899c1ccd15"
      }
     }
    },
    "fbaaaefa-ce71-4166-bb9d-b18009e8816d": {
     "id": "fbaaaefa-ce71-4166-bb9d-b18009e8816d",
     "prev": "5544c7f4-7eb1-42ec-9f73-794c482db5f4",
     "regions": {
      "75190a1d-92a1-44ac-a56c-d0f81031e7a6": {
       "attrs": {
        "height": 0.8,
        "width": 0.8,
        "x": 0.1,
        "y": 0.1
       },
       "content": {
        "cell": "ccdc2a85-9b03-4a7a-9a8e-c3160f19e4ab",
        "part": "whole"
       },
       "id": "75190a1d-92a1-44ac-a56c-d0f81031e7a6"
      }
     }
    }
   },
   "themes": {}
  }
 },
 "nbformat": 4,
 "nbformat_minor": 0
}
