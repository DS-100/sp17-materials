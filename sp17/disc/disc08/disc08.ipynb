{
 "cells": [
  {
   "cell_type": "markdown",
   "metadata": {},
   "source": [
    "# Modeling and MLE"
   ]
  },
  {
   "cell_type": "markdown",
   "metadata": {},
   "source": [
    "You are nursing a red knot, Paulina, back to health after finding it injured in your back yard.  Normally, the knot is a migratory bird, travelling back and forth from its breeding grounds in the Arctic to Tierra del Fuego down in South America.  During her stay with you, you notice that she spends entire days either in front of the air conditioner or next to the warmer window.  A data scientist at heart, you begin logging her chosen resting place every day until her departure.  These are your notes:"
   ]
  },
  {
   "cell_type": "markdown",
   "metadata": {},
   "source": [
    "Day|1|2|3|4|5|6|7|8|9|10|11|12\n",
    "-|-|-|-|-|-|-|-|-|-|-|-\n",
    "Location|A|A|A|W|W|W|W|A|A|A|W|W"
   ]
  },
  {
   "cell_type": "markdown",
   "metadata": {},
   "source": [
    "After freeing Paulina the peep back to the wilds, you feel an emptiness in your heart, so you turn to modeling to fill the void.  You're interested in modeling the mini-migratory patterns you observed in your knot.  You start with the following assumptions:\n",
    "\n",
    "* Paulina either moves or stays on any given day.  She never moves more than once.\n",
    "* The way Paulina decides to move or stay does not change with time.  \n",
    "* Paulina bases her decisions solely on where she was resting yesterday.\n",
    "\n"
   ]
  },
  {
   "cell_type": "markdown",
   "metadata": {},
   "source": [
    "We should always evaluate our assumptions for plausibility.  Which of these assumptions seem reasonable based on your observations?  Which seem a little strong?"
   ]
  },
  {
   "cell_type": "markdown",
   "metadata": {},
   "source": [
    "<br>\n",
    "<br>\n",
    "<br>\n",
    "<br>\n",
    "<br>\n",
    "<br>\n",
    "<br>\n",
    "<br>\n",
    "<br>\n",
    "<br>\n",
    "<br>\n",
    "<br>\n",
    "<br>\n",
    "<br>\n",
    "<br>"
   ]
  },
  {
   "cell_type": "markdown",
   "metadata": {},
   "source": [
    "**SOLUTION**:  \n",
    "\n",
    "Empirically, Paulina indeed did seem to limit herself to moving at most once per day.\n",
    "\n",
    "The other two are unknowable given our data!"
   ]
  },
  {
   "cell_type": "markdown",
   "metadata": {},
   "source": [
    "Let's just roll with the assumptions above for now.  They will lead to a simpler model.  We have to start somewhere!  With the assumptions above, our understanding of Paulina is reduced to four possible events: what are they?"
   ]
  },
  {
   "cell_type": "markdown",
   "metadata": {},
   "source": [
    "<br>\n",
    "<br>\n",
    "<br>\n",
    "<br>\n",
    "<br>\n",
    "<br>\n",
    "<br>\n",
    "<br>\n",
    "<br>\n",
    "<br>\n",
    "<br>\n",
    "<br>\n",
    "<br>\n",
    "<br>\n",
    "<br>"
   ]
  },
  {
   "cell_type": "markdown",
   "metadata": {},
   "source": [
    "**SOLUTION**:\n",
    "\n",
    "On any given day:\n",
    "\n",
    "* Paulina moves from the air conditioner to the window\n",
    "* Paulina moves from the window to the air conditioner\n",
    "* Paulina stays in front of the AC\n",
    "* Paulina stays in front of the window"
   ]
  },
  {
   "cell_type": "markdown",
   "metadata": {},
   "source": [
    "Which assumption specifically allowed you to say this?"
   ]
  },
  {
   "cell_type": "markdown",
   "metadata": {},
   "source": [
    "What events do we NOT have to worry about because of these assumptions?"
   ]
  },
  {
   "cell_type": "markdown",
   "metadata": {},
   "source": [
    "Now we write down a probability statement for these events:\n",
    "\n",
    "> Paulina stays or moves with probabilities $p_{AA}, p_{WW}, p_{AW}, \\text{and} \\ p_{WA}$ each day where $p_{ij}$ is the probability of moving from location $i$ to location $j$ given Paulina was at $i$ the day before."
   ]
  },
  {
   "cell_type": "markdown",
   "metadata": {},
   "source": [
    "What restrictions do our assumptions place on the probabilities?"
   ]
  },
  {
   "cell_type": "markdown",
   "metadata": {},
   "source": [
    "They are not changing with each passing day.  If Paulina is at $A$, she can only stay at $A$ or move to $W$, so $p_{AA} + p_{AW}=1$.  A similar argument holds for $W$."
   ]
  },
  {
   "cell_type": "markdown",
   "metadata": {},
   "source": [
    "A natural thing to want to do at this point is estimate our parameters $p_{AA}, p_{WW}, p_{AW}, p_{WA}$.  We turn back to our friend, maximum likelihood estimation.  This will require us to write down the probability of witnessing our data (given the model):"
   ]
  },
  {
   "cell_type": "markdown",
   "metadata": {},
   "source": [
    "$\\mathbb{P}($A on Day 1 and A on Day 2 $...$ and B on Day 11 and B on Day 12$)$"
   ]
  },
  {
   "cell_type": "markdown",
   "metadata": {},
   "source": [
    "So we write down the product:\n",
    "\n",
    "$\\mathbb{P}(\\text{A on Day 1}) \\times \\mathbb{P}(\\text{A on Day 2}) \\times ... \\times \\mathbb{P}(\\text{B on Day 11}) \\times \\mathbb{P}(\\text{B on Day 12})$\n",
    "\n",
    "<br>\n",
    "<br>\n",
    "<br>\n",
    "<br>\n",
    "<br>\n",
    "<br>\n",
    "<br>\n",
    "<br>\n",
    "<br>\n",
    "<br>\n",
    "<br>\n",
    "<br>\n",
    "<br>\n",
    "<br>\n",
    "<br>\n",
    "\n",
    "Wait, what?  That's not right.  What does the second statement assume?"
   ]
  },
  {
   "cell_type": "markdown",
   "metadata": {},
   "source": [
    "<br>\n",
    "<br>\n",
    "<br>\n",
    "<br>\n",
    "<br>\n",
    "<br>\n",
    "<br>\n",
    "<br>\n",
    "<br>\n",
    "<br>\n",
    "<br>\n",
    "<br>\n",
    "<br>\n",
    "<br>\n",
    "<br>\n",
    "\n",
    "**SOLUTION**: That the events are independent!"
   ]
  },
  {
   "cell_type": "markdown",
   "metadata": {},
   "source": [
    "What can we legitimately write down?"
   ]
  },
  {
   "cell_type": "markdown",
   "metadata": {},
   "source": [
    "<br>\n",
    "<br>\n",
    "<br>\n",
    "<br>\n",
    "<br>\n",
    "<br>\n",
    "<br>\n",
    "<br>\n",
    "<br>\n",
    "<br>\n",
    "<br>\n",
    "<br>\n",
    "<br>\n",
    "<br>\n",
    "<br>"
   ]
  },
  {
   "cell_type": "markdown",
   "metadata": {},
   "source": [
    "$$\\begin{align}\n",
    "\\mathbb{P}(AAAWWWWAAAWW) = &\\mathbb{P}(\\text{A on Day 1}) \\\\\n",
    "\\times &\\mathbb{P}(\\text{A on Day 2} \\ \\vert \\ \\text{A on Day 1}) \\\\\n",
    "\\times &\\mathbb{P}(\\text{A on Day 3} \\ \\vert \\ \\text{AA on Days 1-2}) \\\\\n",
    "\\times &\\mathbb{P}(\\text{W on Day 4} \\ \\vert \\ \\text{AAA on Days 1-3}) \\\\\n",
    "\\times &\\mathbb{P}(\\text{W on Day 5} \\ \\vert \\ \\text{AAAW on Days 1-4}) \\\\\n",
    "\\times &... \\\\\n",
    "\\times &\\mathbb{P}(\\text{W on Day 12} \\ \\vert \\ \\text{AAAWWWWAAAW on Days 1-11})\n",
    "\\end{align}$$"
   ]
  },
  {
   "cell_type": "markdown",
   "metadata": {},
   "source": [
    "Our assumption that Paulina only makes decisions based on where she was the day before allows us to further simplify."
   ]
  },
  {
   "cell_type": "markdown",
   "metadata": {},
   "source": [
    "$$\\begin{align}\n",
    "\\mathbb{P}(AAAWWWWAAAWW) = &\\mathbb{P}(\\text{A on Day 1}) \\\\\n",
    "\\times &\\mathbb{P}(\\text{A on Day 2} \\ \\vert \\ \\text{A on Day 1}) \\\\\n",
    "\\times &\\mathbb{P}(\\text{A on Day 3} \\ \\vert \\ \\text{A on Day 2}) \\\\\n",
    "\\times &\\mathbb{P}(\\text{W on Day 4} \\ \\vert \\ \\text{A on Day 3}) \\\\\n",
    "\\times &\\mathbb{P}(\\text{W on Day 5} \\ \\vert \\ \\text{W on Day 4}) \\\\\n",
    "\\times &... \\\\\n",
    "\\times &\\mathbb{P}(\\text{W on Day 12} \\ \\vert \\ \\text{W on Day 11})\n",
    "\\end{align}$$"
   ]
  },
  {
   "cell_type": "markdown",
   "metadata": {},
   "source": [
    "Furthermore, the assumption that the decision mechanism doesn't change with time lets us drop the time index from most of this statement!"
   ]
  },
  {
   "cell_type": "markdown",
   "metadata": {},
   "source": [
    "$$\\begin{align}\n",
    "\\mathbb{P}(AAAWWWWAAAWW) = &\\mathbb{P}(\\text{A on Day 1}) \\\\\n",
    "\\times &\\mathbb{P}(\\text{A today} \\ \\vert \\ \\text{A yesterday}) \\\\\n",
    "\\times &\\mathbb{P}(\\text{A today} \\ \\vert \\ \\text{A yesterday}) \\\\\n",
    "\\times &\\mathbb{P}(\\text{W today} \\ \\vert \\ \\text{A yesterday}) \\\\\n",
    "\\times &\\mathbb{P}(\\text{W today} \\ \\vert \\ \\text{W yesterday}) \\\\\n",
    "\\times &... \\\\\n",
    "\\times &\\mathbb{P}(\\text{W today} \\ \\vert \\ \\text{W yesterday})\n",
    "\\end{align}$$"
   ]
  },
  {
   "cell_type": "markdown",
   "metadata": {},
   "source": [
    "The only problem that remains is Day 1 since it doesn't have a \"yesterday\".  For now, we'll assume it away: let $\\mathbb{P}(\\text{A on Day 1})=1$ since we imagine a world where we have complete control over where we place Paulina on Day 1 OR alternatively, where Paulina goes on Day 1 doesn't determine how she makes the rest of her decisions.  \n",
    "\n",
    "Ok, now we can finally put our parameters into this probability model.  Rewrite the above with $p_{AA}, p_{WW}, p_{AW}, p_{WA}$."
   ]
  },
  {
   "cell_type": "markdown",
   "metadata": {},
   "source": [
    "<br>\n",
    "<br>\n",
    "<br>\n",
    "<br>\n",
    "<br>\n",
    "<br>\n",
    "<br>\n",
    "<br>\n",
    "<br>\n",
    "<br>\n",
    "<br>\n",
    "<br>\n",
    "<br>\n",
    "<br>\n",
    "<br>"
   ]
  },
  {
   "cell_type": "markdown",
   "metadata": {},
   "source": [
    "$$\\begin{align}\n",
    "\\mathbb{P}(AAAWWWWAAAWW) \n",
    "&= 1 \\times p_{AA} \\times p_{AA} \\times p_{AW} \\times p_{WW} \\times ... \\times p_{WW} \\\\\n",
    "&= p_{AA}^4 \\times p_{AW}^2 \\times p_{WW}^4 \\times p_{WA} \\\\\n",
    "&= p_{AA}^4 \\times (1-p_{AA})^2 \\times p_{WW}^4 \\times (1-p_{WW})\n",
    "\\end{align}$$"
   ]
  },
  {
   "cell_type": "markdown",
   "metadata": {},
   "source": [
    "Whew, now we have a probability statement involving our parameters of interest (if our model is meaningful).  The maximum likelihood strategy will have us looking at this probability as a likelihood function.  Taking the log:\n",
    "\n",
    "$$l(p_{AA}, p_{WW}) = 4log(p_{AA}) + 2log(1-p_{AA}) + 4log(p_{WW}) + log(1-p_{WW})$$\n",
    "\n",
    "Talk with the people around you to find a way to maximize the log-likelihood.  You should get $\\hat{p}_{AA} = \\frac{2}{3}$ and $\\hat{p}_{WW} = \\frac{4}{5}$"
   ]
  },
  {
   "cell_type": "markdown",
   "metadata": {},
   "source": [
    "The takeaway message from today's discussion shouldn't only be the maximum likelihood calculation at the very end---though this is the first time we have seen that MLE works on dependent events as well! We want to emphasize a human-decision portion of data science: notice that the choice of model was ours ... along with the assumptions that made it work.  You have the freedom to be creative with your probability models: MLE is merely a guiding principle to fit your model to the real world.  With that said, what would be a reasonable thing to now that we have a fitted model?"
   ]
  },
  {
   "cell_type": "markdown",
   "metadata": {},
   "source": [
    "<br>\n",
    "<br>\n",
    "<br>\n",
    "<br>\n",
    "<br>\n",
    "<br>\n",
    "<br>\n",
    "<br>\n",
    "<br>\n",
    "<br>\n",
    "<br>\n",
    "<br>\n",
    "<br>\n",
    "<br>\n",
    "<br>\n",
    "**SOLUTION**: Validate the model!  Test any assumption that can be empirically tested! Decide whether or not you can sleep at night with the other assumptions."
   ]
  }
 ],
 "metadata": {
  "anaconda-cloud": {},
  "kernelspec": {
   "display_name": "Python [conda env:ds100bow]",
   "language": "python",
   "name": "conda-env-ds100bow-py"
  },
  "language_info": {
   "codemirror_mode": {
    "name": "ipython",
    "version": 3
   },
   "file_extension": ".py",
   "mimetype": "text/x-python",
   "name": "python",
   "nbconvert_exporter": "python",
   "pygments_lexer": "ipython3",
   "version": "3.5.2"
  }
 },
 "nbformat": 4,
 "nbformat_minor": 2
}

