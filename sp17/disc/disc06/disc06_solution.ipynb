{
 "cells": [
  {
   "cell_type": "markdown",
   "metadata": {},
   "source": [
    "# Flummoxed: From Questions to Queries"
   ]
  },
  {
   "cell_type": "markdown",
   "metadata": {},
   "source": [
    "In this activity, we will practice translating our human questions into queries our robot counterparts can understand.  As usual, you will not be required to turn in anything.  For your convenience, we have included a short example of how to typeset relational algebra notation in a Jupyter notebook."
   ]
  },
  {
   "cell_type": "markdown",
   "metadata": {},
   "source": [
    "### LaTeX-Style Typesetting in Jupyter Notebooks\n",
    "\n",
    "You can use TeX-style commands to include mathematical expressions in Jupyter notebook.  In a markdown cell, just include the commands you want wrapped in `$` to have an inline expression and `$$` if you want centered equation typesetting.\n",
    "\n",
    "`$$basic-cust-accts \\leftarrow \\Pi_{(name, customer.sin, account-number)}\n",
    "(\\sigma_{customer.sin = account.sin}(customer \\times account))$$`\n",
    "\n",
    "$$basic-cust-accts \\leftarrow \\Pi_{(name, customer.sin, account-number)}\n",
    "(\\sigma_{customer.sin = account.sin}(customer \\times account))$$"
   ]
  },
  {
   "cell_type": "markdown",
   "metadata": {},
   "source": [
    "Operation | Symbol | LaTeX Name\n",
    "--------- | ------ | -----------\n",
    "Assign | $\\rightarrow$ | `rightarrow`\n",
    "Select | $\\sigma$ | `sigma`\n",
    "Project | $\\Pi$ | `Pi`\n",
    "Inner product | $\\bowtie$ | `bowtie`\n",
    "Cross product | $\\times$ | `times`\n",
    "Rename | $\\rho$ | `rho`\n",
    "Groupby | $\\gamma$ | `gamma`\n",
    "And | $\\wedge$ | `wedge`\n",
    "Or | $\\vee$ | `vee`\n",
    "Negation | $\\neg$ | `neg`"
   ]
  },
  {
   "cell_type": "markdown",
   "metadata": {},
   "source": [
    "# Inquiries\n",
    "\n",
    "Consider the following schema below.  The key fields are underlined, and the domain is listed after the field names.  The **Catalog** table contains prices for **Balloons** sold by different **Clowns** standing at certain booths in a fair.\n",
    "\n",
    "**Clowns**(<u>cid</u> integer, cname text, booth text)  \n",
    "**Balloons**(<u>bid</u> integer, bshape text, bcolor text)  \n",
    "**Catalog**(<u>cid</u> integer, <u>bid</u> integer, cost float)"
   ]
  },
  {
   "cell_type": "markdown",
   "metadata": {},
   "source": [
    "## Inquiry: Funny Algebra\n",
    "\n",
    "In this section, you are asked to translate the following queries into relational algebra semantics."
   ]
  },
  {
   "cell_type": "markdown",
   "metadata": {},
   "source": [
    "#### Problem 1\n",
    "\n",
    "What are the costs of all whale-shaped balloons?"
   ]
  },
  {
   "cell_type": "markdown",
   "metadata": {},
   "source": [
    "**SOLUTION:** $\\Pi_{cost}(\\sigma_{bshape='whale'}Balloons \\bowtie_{bid=bid} Catalog)$"
   ]
  },
  {
   "cell_type": "markdown",
   "metadata": {},
   "source": [
    "#### Problem 2\n",
    "\n",
    "What are the names of the clowns that sell periwinkle (color) balloons in at least one shape?"
   ]
  },
  {
   "cell_type": "markdown",
   "metadata": {},
   "source": [
    "**SOLUTION:** $\\Pi_{cname}((\\Pi_{pid}\\sigma_{bcolor='periwinkle'}Balloons)\\bowtie Catalog)\\bowtie_{cid=cid} Clowns)$"
   ]
  },
  {
   "cell_type": "markdown",
   "metadata": {},
   "source": [
    "#### Problem 3 (Hard -- Opinions may be _divisive_)\n",
    "\n",
    "What are the cids of the clowns that sell periwinkle balloons in every shape?\n",
    "\n",
    "Hint: Consider the following strategy  \n",
    "1.  Compute all possible attribute pairings\n",
    "2.  Remove the existing pariings\n",
    "3.  Remove the non-answers from the possible answers"
   ]
  },
  {
   "cell_type": "markdown",
   "metadata": {},
   "source": [
    "**SOLUTION:** $\\Pi_{cid}Catalog - \\Pi_{cid}((\\Pi_{cid}Catalog \\times \\Pi_{bid}\\sigma_{bcolor='periwinkle'}Balloons)-Catalog)$"
   ]
  },
  {
   "cell_type": "markdown",
   "metadata": {},
   "source": [
    "## Inquiry: The SQL\n",
    "In this section, you are asked to translate the following questions into their equivalent SQL queries.  Do not delete the backticks if you want to keep a nice fix-width formatting."
   ]
  },
  {
   "cell_type": "markdown",
   "metadata": {},
   "source": [
    "#### Problem 4\n",
    "What are the top 10 most expensive shapes sold by Whompers LeFou?"
   ]
  },
  {
   "cell_type": "markdown",
   "metadata": {
    "for_assignment_type": "solution"
   },
   "source": [
    "**SOLUTION:**\n",
    "```\n",
    "SELECT bshape, cost\n",
    "FROM Clowns, Balloons, Catalog \n",
    "WHERE Clowns.cid=Catalog.cid\n",
    "    AND Balloons.bid=Catalog.bid\n",
    "    AND cname='Whompers LeFou'\n",
    "ORDER BY cost DESC\n",
    "LIMIT 10;\n",
    "```\n"
   ]
  },
  {
   "cell_type": "markdown",
   "metadata": {},
   "source": [
    "#### Problem 5\n",
    "How many different colors are available at each booth?"
   ]
  },
  {
   "cell_type": "markdown",
   "metadata": {
    "for_assignment_type": "solution"
   },
   "source": [
    "**SOLUTION:**\n",
    "```\n",
    "SELECT booth, COUNT(DISTINCT bcolor)\n",
    "FROM Clowns, Balloons, Catalog\n",
    "WHERE Clowns.cid=Catalog.cid\n",
    "    AND Balloons.bid=Catalog.bid\n",
    "GROUP BY booth\n",
    "```"
   ]
  },
  {
   "cell_type": "markdown",
   "metadata": {},
   "source": [
    "#### Problem 6\n",
    "What is the average cost of a balloon at booths that offer more than 3 red shapes per clown?  Each clown at the booth does not necessarily have to be selling more than 3 shapes."
   ]
  },
  {
   "cell_type": "markdown",
   "metadata": {
    "for_assignment_type": "solution"
   },
   "source": [
    "**SOLUTION:**\n",
    "```\n",
    "SELECT booth, avg(cost)\n",
    "FROM Clowns, Balloons, Catalog\n",
    "WHERE Clowns.cid=Catalog.cid\n",
    "    AND Balloons.cid=Catalog.cid\n",
    "    AND bcolor='red'\n",
    "GROUP BY booth\n",
    "HAVING COUNT(DISTINCT bshape)/COUNT(DISTINCT Clowns.cid) > 3\n",
    "```"
   ]
  },
  {
   "cell_type": "markdown",
   "metadata": {},
   "source": [
    "#### Bonus\n",
    "Recall the schema for the representation of a matrix in SQL: matrix(<u>x</u>, <u>y</u>, value). In lecture, someone asked how the matrix transpose would be defined in SQL.  Let's think about the implementation.  First, we should think about the definition.  Let $M$ denote a matrix and $[M]_{ij}$ be the element in the $i^{th}$ row and $j^{th}$ column.  The matrix transpose is defined as\n",
    "$$[M^T]_{ij}=[M]_{ji}$$\n",
    "This suggests that all we naively have to do is make a `SELECT` statement that swaps `x` and `y`.  Hint: $\\rho(Mt, (1\\rightarrow y, 2 \\rightarrow x), M)$"
   ]
  },
  {
   "cell_type": "markdown",
   "metadata": {
    "for_assignment_type": "solution"
   },
   "source": [
    "**SOLUTION:**\n",
    "```\n",
    "SELECT M.y AS x, M.x AS y, value  \n",
    "FROM M;\n",
    "```"
   ]
  },
  {
   "cell_type": "markdown",
   "metadata": {},
   "source": [
    "```\n",
    "SQL query goes here...\n",
    "```"
   ]
  }
 ],
 "metadata": {
  "anaconda-cloud": {},
  "kernelspec": {
   "display_name": "Python [conda env:ds100bow]",
   "language": "python",
   "name": "conda-env-ds100bow-py"
  },
  "language_info": {
   "codemirror_mode": {
    "name": "ipython",
    "version": 3
   },
   "file_extension": ".py",
   "mimetype": "text/x-python",
   "name": "python",
   "nbconvert_exporter": "python",
   "pygments_lexer": "ipython3",
   "version": "3.5.2"
  }
 },
 "nbformat": 4,
 "nbformat_minor": 2
}
