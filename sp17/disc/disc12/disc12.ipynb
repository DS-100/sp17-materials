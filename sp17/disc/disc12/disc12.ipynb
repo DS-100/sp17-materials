{
 "cells": [
  {
   "cell_type": "markdown",
   "metadata": {},
   "source": [
    "# K-means"
   ]
  },
  {
   "cell_type": "code",
   "execution_count": 1,
   "metadata": {
    "collapsed": false
   },
   "outputs": [],
   "source": [
    "import numpy as np\n",
    "import matplotlib\n",
    "%matplotlib inline\n",
    "import matplotlib.pyplot as plt\n",
    "import ds100"
   ]
  },
  {
   "cell_type": "markdown",
   "metadata": {},
   "source": [
    "# Vanilla Example\n",
    "\n",
    "The setting: three groups, completely separated with the variables given, same number of points per group, and same variance in each group.  A classic example for K-means."
   ]
  },
  {
   "cell_type": "code",
   "execution_count": 2,
   "metadata": {
    "collapsed": false
   },
   "outputs": [],
   "source": [
    "np.random.seed(13337)\n",
    "c1 = np.random.randn(25, 2)\n",
    "c2 = np.array([2, 8]) + np.random.randn(25, 2)\n",
    "c3 = np.array([8, 4]) + np.random.randn(25, 2)\n",
    "\n",
    "x1 = np.vstack((c1, c2, c3))\n",
    "g1 = np.repeat([0, 1, 2], 25)\n",
    "\n",
    "ds100.scatter2d_grouped(x1, g1)"
   ]
  },
  {
   "cell_type": "markdown",
   "metadata": {},
   "source": [
    "Let's just run this algorithm as a black box for the moment to see how reasonably it performs.  "
   ]
  },
  {
   "cell_type": "code",
   "execution_count": 3,
   "metadata": {
    "collapsed": false
   },
   "outputs": [],
   "source": [
    "example1 = ds100.kmeans(x1, 3)\n",
    "example1.run()\n",
    "example1.plot()"
   ]
  },
  {
   "cell_type": "markdown",
   "metadata": {},
   "source": [
    "Dang, looks pretty good up to label permutation.  With such promising results, we should pry under the hood a little.  We discover that K-means can be described as follows:\n",
    "\n",
    "1. Provide initial coordinates for K cluster centers\n",
    "1. Update cluster assignments\n",
    "1. Update cluster centers\n",
    "1. Repeat 2 and 3 until satisfied"
   ]
  },
  {
   "cell_type": "markdown",
   "metadata": {},
   "source": [
    "### Initialize k Cluster Centers\n",
    "\n",
    "This seems fairly innocuous.  There seems to be a couple of ways for basic k-means to start off:\n",
    "\n",
    "1. Randomly pick k data points. The `kmeans` object included in the `ds100` module does this by default.\n",
    "1. Manually enter k cluster centers.  This can be specified with the `centers` argument when instantiating the `kmeans` object.\n",
    "\n",
    "What do you think? When would you pick one method over another?\n",
    "\n",
    "**Notation:** For the remainder of the discussion, we'll refer to the K clusters as $C_1, C_2, ..., C_K$ and their specific coordinates as $c_1, c_2, ..., c_K$.  "
   ]
  },
  {
   "cell_type": "markdown",
   "metadata": {},
   "source": [
    "### Update Cluster Assignments\n",
    "\n",
    "How do we measure \"closeness\"? With k-means, we use the square euclidean distance.  Formally, for any two points $x$ and $c$, each a vector with $p$ coordinates (for the $p$ features) we can write this \"dissimilarity\" as:\n",
    "$$d(x, c) = \\lVert x-c \\rVert_2^2 = \\sum_{j=1}^p (x_j - c_j)^2$$\n",
    "\n",
    "With this measure, assign each of the $n$ data points, $x_i$, $i \\in \\{1, 2, 3, ..., n\\}$, to the cluster $C_k$ that is closest to it.\n",
    "\n",
    "It turns out that this \"rule\" isn't well-defined.  When is there ambiguity? How do you propose we fix this?"
   ]
  },
  {
   "cell_type": "markdown",
   "metadata": {},
   "source": [
    "### Update Cluster Centers"
   ]
  },
  {
   "cell_type": "markdown",
   "metadata": {},
   "source": [
    "Now that the cluster assignments have changed, we need to find their centers.  This is a straightfoward calculation.  For each cluster, we just take the average of all the points assigned to that cluster:\n",
    "\n",
    "$$c_k = \\frac{1}{|C_k|}\\sum_{i \\in C_k} x_i$$\n",
    "\n",
    "where $|C_k|$ is the size of the cluster."
   ]
  },
  {
   "cell_type": "markdown",
   "metadata": {},
   "source": [
    "### Repeat until satisfied\n",
    "\n",
    "Sounds good, but when should we be satisfied?  And does our gratification come in a single lifetime?\n",
    "\n",
    "Based on the two update steps above, what are stopping criteria would you suggest?"
   ]
  },
  {
   "cell_type": "markdown",
   "metadata": {},
   "source": [
    "# Exploration: Does initialization matter?\n",
    "\n",
    "We're in the same setting as before, but we've manually entered some initial cluster centers.  They look pretty bad, but maybe k-means can salvage the situation."
   ]
  },
  {
   "cell_type": "code",
   "execution_count": 4,
   "metadata": {
    "collapsed": false
   },
   "outputs": [],
   "source": [
    "manual_centers = np.array([[0,1], [1,1], [2,2]])\n",
    "example2 = ds100.kmeans(x1, k = 3, centers = manual_centers)\n",
    "example2.plot(colored=False)"
   ]
  },
  {
   "cell_type": "markdown",
   "metadata": {},
   "source": [
    "We'll run the algorithm one step at a time to see what happens.  First, let's assign clusters."
   ]
  },
  {
   "cell_type": "code",
   "execution_count": 5,
   "metadata": {
    "collapsed": false
   },
   "outputs": [],
   "source": [
    "example2._update_clusters()\n",
    "example2.show_clusters()\n",
    "example2.plot()"
   ]
  },
  {
   "cell_type": "markdown",
   "metadata": {},
   "source": [
    "Now to update the cluster centers.  It seems like at least one center is moving in a reasonable direction."
   ]
  },
  {
   "cell_type": "code",
   "execution_count": 6,
   "metadata": {
    "collapsed": false
   },
   "outputs": [],
   "source": [
    "example2._update_centers()\n",
    "example2.show_centers()\n",
    "example2.plot()"
   ]
  },
  {
   "cell_type": "markdown",
   "metadata": {},
   "source": [
    "Continuing with a second cluster assignment... Doesn't look like much has changed."
   ]
  },
  {
   "cell_type": "code",
   "execution_count": 7,
   "metadata": {
    "collapsed": false
   },
   "outputs": [],
   "source": [
    "example2._update_clusters()\n",
    "example2.show_clusters()\n",
    "example2.plot()"
   ]
  },
  {
   "cell_type": "markdown",
   "metadata": {},
   "source": [
    "Letting k-means run on its own reveals that we could have run this for one more step, but it still stops in a pretty bad place.  So indeed, k-means can fail to find a global optimum if it is seeded with a bad start."
   ]
  },
  {
   "cell_type": "code",
   "execution_count": 8,
   "metadata": {
    "collapsed": false
   },
   "outputs": [],
   "source": [
    "example2 = ds100.kmeans(x1, k = 3, centers = manual_centers)\n",
    "example2.run()\n",
    "example2.summary()\n",
    "example2.plot()"
   ]
  },
  {
   "cell_type": "markdown",
   "metadata": {},
   "source": [
    "# Why k-means?\n",
    "\n",
    "Despite its shortcomings, we should talk about its advantages.\n",
    "\n",
    "* Good intro to clustering.  Easy to explain, easy to implement.\n",
    "* It's fast.  Sometimes you only want rough groups.\n",
    "* It's simple --- only one easy-to-understand parameter to choose.\n",
    "* Can be modified to be more robust.  Can you spot things that could be changed?"
   ]
  },
  {
   "cell_type": "markdown",
   "metadata": {},
   "source": [
    "With that said, let's build some more intuition behind what the algorithm is doing.  Remember from lecture that the k-means objective function can be written as:\n",
    "\n",
    "$$argmin_{C_1,...,C_K} \\sum_{k=1}^K\\sum_{i \\in C_k} d(x_i, c_k) = argmin_{C_1,...,C_K} \\sum_{k=1}^K\\sum_{i \\in C_k} \\lVert x_i - c_k \\rVert_2^2$$\n",
    "\n",
    "In words: find the cluster assignments such that the sum of squares within clusters is minimized.  Imagine drawing squares at each data point where one vertex is on the data point and the other is on its cluster center.  Add up the area of all those squares.  That is what we're trying to minimize by shuffling the data around to different clusters. "
   ]
  },
  {
   "cell_type": "markdown",
   "metadata": {},
   "source": [
    "## Implicit Preference 1"
   ]
  },
  {
   "cell_type": "markdown",
   "metadata": {},
   "source": [
    "Consider the following data.  Do you see any \"natural\" groupings?"
   ]
  },
  {
   "cell_type": "code",
   "execution_count": 9,
   "metadata": {
    "collapsed": false
   },
   "outputs": [],
   "source": [
    "x3 = np.genfromtxt('example3.csv', delimiter=',')\n",
    "x3, g3 = x3[:,:2], x3[:,2]\n",
    "plt.scatter(x3[:,0], x3[:,1], color=plt.cm.Dark2(.5))"
   ]
  },
  {
   "cell_type": "markdown",
   "metadata": {},
   "source": [
    "Most people would pick out the following pattern.  Doesn't seem too unreasonable."
   ]
  },
  {
   "cell_type": "code",
   "execution_count": 10,
   "metadata": {
    "collapsed": false
   },
   "outputs": [],
   "source": [
    "ds100.scatter2d_grouped(x3, g3)"
   ]
  },
  {
   "cell_type": "markdown",
   "metadata": {},
   "source": [
    "It turns out that k-means will pick something completely different. That pokeball though..."
   ]
  },
  {
   "cell_type": "code",
   "execution_count": 11,
   "metadata": {
    "collapsed": false
   },
   "outputs": [],
   "source": [
    "example3 = ds100.kmeans(x3, 2)\n",
    "example3.run()\n",
    "example3.plot()"
   ]
  },
  {
   "cell_type": "markdown",
   "metadata": {},
   "source": [
    "So what's happening here?  Remember k-mean's objective function: minimize the sum of squares within clusters.  Placing both centers at the origin and assigning the \"natural\" clusters would produce one \"tight\" cluster with small squares, but this is heavily overshadowed by the large squares resulting from the data points on the outer ring.  In other words, k-means prefers clusters that are \"separate balls of points\".\n",
    "\n",
    "**Aside:** This particular situation can actually be salvaged with k-means if we want to recover the \"natural\" clusters by transforming the data to polar coordinates."
   ]
  },
  {
   "cell_type": "code",
   "execution_count": 12,
   "metadata": {
    "collapsed": false
   },
   "outputs": [],
   "source": [
    "r = np.sqrt(x3[:,0]**2 + x3[:,1]**2)\n",
    "theta = np.arctan(x3[:,0] / x3[:,1])\n",
    "x3_xformed = np.hstack((r[:, np.newaxis], theta[:, np.newaxis]))\n",
    "example3xf = ds100.kmeans(x3_xformed, 2)\n",
    "example3xf.run()\n",
    "example3xf.plot()"
   ]
  },
  {
   "cell_type": "markdown",
   "metadata": {},
   "source": [
    "Transforming back to cartesian coordinates:"
   ]
  },
  {
   "cell_type": "code",
   "execution_count": 13,
   "metadata": {
    "collapsed": false
   },
   "outputs": [],
   "source": [
    "ds100.scatter2d_grouped(x3, example3xf.clusters)"
   ]
  },
  {
   "cell_type": "markdown",
   "metadata": {},
   "source": [
    "# Implicit Preference 2"
   ]
  },
  {
   "cell_type": "markdown",
   "metadata": {},
   "source": [
    "Consider the data below.  There are two groups of different sizes in two different senses.  The smaller group has both smaller variability and is less numerous.  The larger of the two groups is more diffuse and populated.  What do you think happens when we run k-means and why?"
   ]
  },
  {
   "cell_type": "code",
   "execution_count": 14,
   "metadata": {
    "collapsed": false
   },
   "outputs": [],
   "source": [
    "c1 = 0.5 * np.random.randn(25, 2)\n",
    "c2 = np.array([10, 10]) + 3*np.random.randn(475, 2)\n",
    "\n",
    "x4 = np.vstack((c1, c2))\n",
    "g4 = np.repeat([0, 1], [25, 475])\n",
    "\n",
    "ds100.scatter2d_grouped(x4, g4)"
   ]
  },
  {
   "cell_type": "markdown",
   "metadata": {},
   "source": [
    "Oi, it looks like it split up the larger group.  Again this is all due to the nature of the objective function. k-means, in its quest for tightness, will happily split big clouds to minimize the sum of squares."
   ]
  },
  {
   "cell_type": "code",
   "execution_count": 15,
   "metadata": {
    "collapsed": false
   },
   "outputs": [],
   "source": [
    "example4 = ds100.kmeans(x4, 2)\n",
    "example4.run()\n",
    "example4.plot()"
   ]
  },
  {
   "cell_type": "markdown",
   "metadata": {},
   "source": [
    "Even with the true centers of the data generating process chosen, we still observe the k-means **really** wants to leech points off the large cluster."
   ]
  },
  {
   "cell_type": "code",
   "execution_count": 16,
   "metadata": {
    "collapsed": false
   },
   "outputs": [],
   "source": [
    "smart_centers = [[0, 0], [10, 10]]\n",
    "example4 = ds100.kmeans(x4, 2, centers = smart_centers)\n",
    "example4.run()\n",
    "example4.plot()"
   ]
  },
  {
   "cell_type": "markdown",
   "metadata": {},
   "source": [
    "It's worth noting that this is mitigated if the different clusters are of the same size.  The inertial mass of the data keeps the cluster center from moving too far away.  Notice the outlier point that does get swallowed up in the orbit of the bottom-left cloud though."
   ]
  },
  {
   "cell_type": "code",
   "execution_count": 17,
   "metadata": {
    "collapsed": false
   },
   "outputs": [],
   "source": [
    "c1 = 0.5 * np.random.randn(250, 2)\n",
    "c2 = np.array([10, 10]) + 3*np.random.randn(250, 2)\n",
    "\n",
    "x5 = np.vstack((c1, c2))\n",
    "g5 = np.repeat([0, 1], [250, 250])\n",
    "\n",
    "ds100.scatter2d_grouped(x5, g5)"
   ]
  },
  {
   "cell_type": "code",
   "execution_count": 18,
   "metadata": {
    "collapsed": false
   },
   "outputs": [],
   "source": [
    "example5 = ds100.kmeans(x5, 2)\n",
    "example5.run()\n",
    "example5.plot()"
   ]
  },
  {
   "cell_type": "markdown",
   "metadata": {},
   "source": [
    "# Implicit Preference 3"
   ]
  },
  {
   "cell_type": "markdown",
   "metadata": {},
   "source": [
    "Let's take a look at this data.  Qualitatively, what are some properties of the groups?"
   ]
  },
  {
   "cell_type": "code",
   "execution_count": 19,
   "metadata": {
    "collapsed": false
   },
   "outputs": [],
   "source": [
    "c1 = np.random.multivariate_normal([-1.5,0], [[.5,0],[0,4]], 100)\n",
    "c2 = np.random.multivariate_normal([1.5,0], [[.5,0],[0,4]], 100)\n",
    "c3 = np.random.multivariate_normal([0, 6], [[4,0],[0,.5]], 100)\n",
    "x6 = np.vstack((c1, c2, c3))\n",
    "g6 = np.repeat([0, 1, 2], 100)\n",
    "\n",
    "ds100.scatter2d_grouped(x6, g6)"
   ]
  },
  {
   "cell_type": "markdown",
   "metadata": {},
   "source": [
    "There are two groups with more variability in the vertical direction than the horizontal and one group where the opposite is true.  Is this an issue for k-means?  If so,  what do you think is the root cause?"
   ]
  },
  {
   "cell_type": "code",
   "execution_count": 20,
   "metadata": {
    "collapsed": false
   },
   "outputs": [],
   "source": [
    "example6 = ds100.kmeans(x6, 3)\n",
    "example6.run()\n",
    "example6.plot()"
   ]
  },
  {
   "cell_type": "code",
   "execution_count": 21,
   "metadata": {
    "collapsed": false
   },
   "outputs": [],
   "source": [
    "example6 = ds100.kmeans(x6, 3)\n",
    "example6.run()\n",
    "example6.plot()"
   ]
  },
  {
   "cell_type": "code",
   "execution_count": 22,
   "metadata": {
    "collapsed": false
   },
   "outputs": [],
   "source": [
    "example6 = ds100.kmeans(x6, 3)\n",
    "example6.run()\n",
    "example6.plot()"
   ]
  },
  {
   "cell_type": "markdown",
   "metadata": {},
   "source": [
    "So indeed k-means might struggle here as well, stemming precisely from the difference in the direction of intra-group variability.  Recall that we are working with square euclidean distances.  How might that explain these failure modes?"
   ]
  },
  {
   "cell_type": "markdown",
   "metadata": {},
   "source": [
    "# No Free Lunch"
   ]
  },
  {
   "cell_type": "markdown",
   "metadata": {},
   "source": [
    "So we've seen a few examples where k-means fails to recover the true clusters in a plot.  Under the hood, there seems to be preference for non-overlap (see [Voronoi diagrams](https://en.wikipedia.org/wiki/Voronoi_diagram), similarly-sized groups, and equivariance (\"spheres\"). But perhaps we're being disingenuous here for several reasons:\n",
    "\n",
    "1. In these examples, we know the data generating process and hence the \"natural\" groups.  k-means is generally viewed as an unsupervised clustering algorithm\n",
    "1. We ask k-means to optimize the within-cluster sum of squares and are surprised when it \"doesn't act the way we expect.\" It is, in fact, our expectations that are a bit out of line since in these examples, our implicit \"optimal\" clustering differs from k-mean's objective.\n",
    "1. k-means is one of many tools. It's the analyst's job to pick the right one for the right job.\n",
    "\n",
    "These ideas are encapsulated in what are called [No Free Lunch](https://ti.arc.nasa.gov/m/profile/dhw/papers/78.pdf) theorems, which in a nutshell says that any optimization algorithm that is trying to solve a real question is powered by <s>hopes and dreams</s> assumptions on the real world.  Treat these objects as black boxes at your own peril. "
   ]
  }
 ],
 "metadata": {
  "anaconda-cloud": {},
  "kernelspec": {
   "display_name": "Python [conda env:ds100win]",
   "language": "python",
   "name": "conda-env-ds100win-py"
  },
  "language_info": {
   "codemirror_mode": {
    "name": "ipython",
    "version": 3
   },
   "file_extension": ".py",
   "mimetype": "text/x-python",
   "name": "python",
   "nbconvert_exporter": "python",
   "pygments_lexer": "ipython3",
   "version": "3.5.2"
  }
 },
 "nbformat": 4,
 "nbformat_minor": 2
}

